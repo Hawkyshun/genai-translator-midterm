{
 "cells": [
  {
   "cell_type": "code",
   "execution_count": 1,
   "id": "01455477-fa06-4869-93d3-7945c27aedfb",
   "metadata": {},
   "outputs": [
    {
     "name": "stderr",
     "output_type": "stream",
     "text": [
      "No model was supplied, defaulted to google-t5/t5-base and revision a9723ea (https://huggingface.co/google-t5/t5-base).\n",
      "Using a pipeline without specifying a model name and revision in production is not recommended.\n",
      "All PyTorch model weights were used when initializing TFT5ForConditionalGeneration.\n",
      "\n",
      "All the weights of TFT5ForConditionalGeneration were initialized from the PyTorch model.\n",
      "If your task is similar to the task the model of the checkpoint was trained on, you can already use TFT5ForConditionalGeneration for predictions without further training.\n"
     ]
    }
   ],
   "source": [
    "from transformers import pipeline\n",
    "\n",
    "translator = pipeline(\"translation_en_to_fr\")\n"
   ]
  },
  {
   "cell_type": "code",
   "execution_count": null,
   "id": "314f2aa9-c54b-4f16-aaaa-1ee99bf4579b",
   "metadata": {},
   "outputs": [],
   "source": [
    "fr = translator(\"my name is Furkan and i am a developer\")"
   ]
  },
  {
   "cell_type": "code",
   "execution_count": null,
   "id": "2d06a673-74ce-4bf5-8863-5df8c5948b97",
   "metadata": {},
   "outputs": [],
   "source": [
    "fr[0]['translation_text']"
   ]
  },
  {
   "cell_type": "code",
   "execution_count": null,
   "id": "f1ef002b-93a3-4d6a-96b3-f5f79fc31f0f",
   "metadata": {},
   "outputs": [],
   "source": [
    "import pysrt\n",
    "\n",
    "subs = pysrt.open(\"Samurai.Jack.S01E01.srt\")\n",
    "\n",
    "for i in subs:\n",
    "    fr_text = translator(i.text)[0]['translation_text']\n",
    "    i.text = fr_text\n",
    "subs.save(\"srtFrench.srt\")"
   ]
  },
  {
   "cell_type": "code",
   "execution_count": null,
   "id": "32f11cdf-9b9b-4bde-8f2c-57ecc617360c",
   "metadata": {},
   "outputs": [],
   "source": []
  }
 ],
 "metadata": {
  "kernelspec": {
   "display_name": "Python 3 (ipykernel)",
   "language": "python",
   "name": "python3"
  },
  "language_info": {
   "codemirror_mode": {
    "name": "ipython",
    "version": 3
   },
   "file_extension": ".py",
   "mimetype": "text/x-python",
   "name": "python",
   "nbconvert_exporter": "python",
   "pygments_lexer": "ipython3",
   "version": "3.11.6"
  }
 },
 "nbformat": 4,
 "nbformat_minor": 5
}
